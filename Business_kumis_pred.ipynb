{
  "nbformat": 4,
  "nbformat_minor": 0,
  "metadata": {
    "colab": {
      "provenance": [],
      "authorship_tag": "ABX9TyMogujZb9hXr4O/BRB5wFV3",
      "include_colab_link": true
    },
    "kernelspec": {
      "name": "python3",
      "display_name": "Python 3"
    },
    "language_info": {
      "name": "python"
    }
  },
  "cells": [
    {
      "cell_type": "markdown",
      "metadata": {
        "id": "view-in-github",
        "colab_type": "text"
      },
      "source": [
        "<a href=\"https://colab.research.google.com/github/animeqvin/Kumis/blob/main/Business_kumis_pred.ipynb\" target=\"_parent\"><img src=\"https://colab.research.google.com/assets/colab-badge.svg\" alt=\"Open In Colab\"/></a>"
      ]
    },
    {
      "cell_type": "code",
      "execution_count": 42,
      "metadata": {
        "id": "Yp521S0dAslu"
      },
      "outputs": [],
      "source": [
        "import pandas as pd\n",
        "import numpy as np\n",
        "from sklearn.model_selection import train_test_split, GridSearchCV\n",
        "from sklearn.ensemble import RandomForestRegressor\n",
        "from sklearn.linear_model import LinearRegression\n",
        "from sklearn.preprocessing import LabelEncoder\n",
        "from sklearn.metrics import mean_absolute_error, mean_squared_error, r2_score\n",
        "import warnings\n",
        "warnings.filterwarnings('ignore')"
      ]
    },
    {
      "cell_type": "code",
      "source": [
        "def load_data():\n",
        "    df = pd.read_excel('Kumis_Sales_combined.xlsx')\n",
        "    return df"
      ],
      "metadata": {
        "id": "OwsB9ziAAxa2"
      },
      "execution_count": 43,
      "outputs": []
    },
    {
      "cell_type": "code",
      "source": [
        "def preprocess_data(df):\n",
        "\n",
        "    if not pd.api.types.is_datetime64_any_dtype(df['Date']):\n",
        "        df['Date'] = pd.to_datetime(df['Date'], origin='1899-12-30', unit='D')\n",
        "\n",
        "\n",
        "    df['Year'] = df['Date'].dt.year\n",
        "    df['Month'] = df['Date'].dt.month\n",
        "    df['DayOfMonth'] = df['Date'].dt.day\n",
        "    df['DayOfYear'] = df['Date'].dt.dayofyear\n",
        "\n",
        "\n",
        "    le = LabelEncoder()\n",
        "    df['DayOfWeek_Encoded'] = le.fit_transform(df['Day_of_Week'])\n",
        "\n",
        "\n",
        "    df['Sales_Lag1'] = df['Kumis_Sales_Volume_L'].shift(1)\n",
        "    df['Sales_Lag2'] = df['Kumis_Sales_Volume_L'].shift(2)\n",
        "\n",
        "\n",
        "    df = df.ffill()\n",
        "\n",
        "\n",
        "    features = ['Sales_Lag1', 'Sales_Lag2', 'Avg_Daily_Temp_C', 'Holiday_KZ',\n",
        "                'Year', 'Month', 'DayOfMonth', 'DayOfWeek_Encoded', 'DayOfYear']\n",
        "    target = 'Kumis_Sales_Volume_L'\n",
        "\n",
        "    return df[features], df[target], le\n"
      ],
      "metadata": {
        "id": "MLYT_VtbEv3D"
      },
      "execution_count": 44,
      "outputs": []
    },
    {
      "cell_type": "code",
      "source": [
        "def calculate_accuracy(y_true, y_pred):\n",
        "    mae = mean_absolute_error(y_true, y_pred)\n",
        "    rmse = np.sqrt(mean_squared_error(y_true, y_pred))\n",
        "    r2 = r2_score(y_true, y_pred)\n",
        "    mean_actual = np.mean(y_true)\n",
        "    percentage_error = (mae / mean_actual) * 100\n",
        "    percentage_accuracy = 100 - percentage_error\n",
        "\n",
        "    print(\"\\n\" + \"=\"*50)\n",
        "    print(\"MODEL PERFORMANCE METRICS\")\n",
        "    print(\"=\"*50)\n",
        "    print(f\"Mean Absolute Error (MAE): {mae:.2f} liters\")\n",
        "    print(f\"Root Mean Squared Error (RMSE): {rmse:.2f} liters\")\n",
        "    print(f\"R-squared (R²) Score: {r2:.4f}\")\n",
        "    print(f\"Percentage Error: {percentage_error:.2f}%\")\n",
        "    print(f\"Percentage Accuracy: {percentage_accuracy:.2f}%\")\n",
        "    print(\"=\"*50)\n",
        "\n",
        "\n",
        "    return {\n",
        "        'MAE': mae,\n",
        "        'RMSE': rmse,\n",
        "        'R2': r2,\n",
        "        'Percentage_Error': percentage_error,\n",
        "        'Percentage_Accuracy': percentage_accuracy\n",
        "    }"
      ],
      "metadata": {
        "id": "Yb-OEYQ7Ev0M"
      },
      "execution_count": 45,
      "outputs": []
    },
    {
      "cell_type": "code",
      "source": [
        "def train_model(X, y):\n",
        "\n",
        "    X_train, X_test, y_train, y_test = train_test_split(X, y, test_size=0.2, random_state=42)\n",
        "\n",
        "\n",
        "    trend_model = LinearRegression()\n",
        "    trend_model.fit(X_train[['Year']], y_train)\n",
        "    y_trend_pred = trend_model.predict(X_train[['Year']])\n",
        "    residuals = y_train - y_trend_pred\n",
        "\n",
        "\n",
        "    param_grid = {\n",
        "        'n_estimators': [50, 100],\n",
        "        'max_depth': [3, 5, 7],\n",
        "        'min_samples_split': [2, 5],\n",
        "        'min_samples_leaf': [1, 2]\n",
        "    }\n",
        "    rf = RandomForestRegressor(random_state=42)\n",
        "    grid_search = GridSearchCV(rf, param_grid, cv=5, scoring='neg_mean_squared_error')\n",
        "    grid_search.fit(X_train.drop('Year', axis=1), residuals)\n",
        "    best_rf_model = grid_search.best_estimator_\n",
        "\n",
        "\n",
        "    y_trend_test_pred = trend_model.predict(X_test[['Year']])\n",
        "    residual_test_pred = best_rf_model.predict(X_test.drop('Year', axis=1))\n",
        "    y_pred = y_trend_test_pred + residual_test_pred\n",
        "\n",
        "    accuracy = calculate_accuracy(y_test, y_pred)\n",
        "\n",
        "    return trend_model, best_rf_model, accuracy"
      ],
      "metadata": {
        "id": "R7CA5UFSEvx0"
      },
      "execution_count": 46,
      "outputs": []
    },
    {
      "cell_type": "code",
      "source": [
        "def predict_sales(trend_model, rf_model, sales_lag1, sales_lag2, temp, holiday, date, day_of_week, label_encoder):\n",
        "    date = pd.to_datetime(date)\n",
        "    input_data = {\n",
        "        'Sales_Lag1': sales_lag1,\n",
        "        'Sales_Lag2': sales_lag2,\n",
        "        'Avg_Daily_Temp_C': temp,\n",
        "        'Holiday_KZ': holiday,\n",
        "        'Year': date.year,\n",
        "        'Month': date.month,\n",
        "        'DayOfMonth': date.day,\n",
        "        'DayOfWeek_Encoded': label_encoder.transform([day_of_week])[0],\n",
        "        'DayOfYear': date.timetuple().tm_yday\n",
        "    }\n",
        "    input_df = pd.DataFrame([input_data])\n",
        "\n",
        "    trend_pred = trend_model.predict(input_df[['Year']])[0]\n",
        "    residual_pred = rf_model.predict(input_df.drop('Year', axis=1))[0]\n",
        "    return trend_pred + residual_pred"
      ],
      "metadata": {
        "id": "wpk3imsyEvvN"
      },
      "execution_count": 47,
      "outputs": []
    },
    {
      "cell_type": "code",
      "source": [
        "if __name__ == \"__main__\":\n",
        "\n",
        "    df = load_data()\n",
        "    X, y, label_encoder = preprocess_data(df)\n",
        "\n",
        "\n",
        "    trend_model, rf_model, accuracy_metrics = train_model(X, y)\n",
        "\n",
        "\n",
        "    prediction_date = '2024-05-09'\n",
        "    day_of_week = 'Monday'\n",
        "    sales_lag1 = 27.0\n",
        "    sales_lag2 = 15.0\n",
        "    temp = 19.0\n",
        "    holiday = 1\n",
        "\n",
        "    predicted_sales = predict_sales(\n",
        "        trend_model, rf_model,\n",
        "        sales_lag1, sales_lag2, temp, holiday,\n",
        "        prediction_date, day_of_week, label_encoder\n",
        "    )\n",
        "\n",
        "    print(f\"\\nPredicted Kumis Sales for {prediction_date}: {predicted_sales:.1f} liters\")"
      ],
      "metadata": {
        "colab": {
          "base_uri": "https://localhost:8080/"
        },
        "id": "rHvuoT3NEvsd",
        "outputId": "6ee83940-5dfc-4ff8-dc64-2ffae011c647"
      },
      "execution_count": 48,
      "outputs": [
        {
          "output_type": "stream",
          "name": "stdout",
          "text": [
            "\n",
            "==================================================\n",
            "MODEL PERFORMANCE METRICS\n",
            "==================================================\n",
            "Mean Absolute Error (MAE): 1.16 liters\n",
            "Root Mean Squared Error (RMSE): 1.37 liters\n",
            "R-squared (R²) Score: 0.5348\n",
            "Percentage Error: 14.99%\n",
            "Percentage Accuracy: 85.01%\n",
            "==================================================\n",
            "\n",
            "Predicted Kumis Sales for 2024-05-09: 14.6 liters\n"
          ]
        }
      ]
    }
  ]
}